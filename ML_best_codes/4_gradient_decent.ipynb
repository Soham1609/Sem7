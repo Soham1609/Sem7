{
 "cells": [
  {
   "cell_type": "code",
   "execution_count": null,
   "metadata": {},
   "outputs": [],
   "source": [
    "# 4\tImplement Gradient Descent Algorithm to find the local minima of a function.\n",
    "# For example, find the local minima of the function y=(x+3)² starting from the point \n",
    "# x=2\n",
    "\n",
    "curr = 2\n",
    "learning_rate =0.01\n",
    "previos_step = 1\n",
    "preciosn = 0.000001\n",
    "max_iterations = 10000\n",
    "iters =0\n",
    "gf = lambda x: (x+3)**2\n",
    "\n"
   ]
  },
  {
   "cell_type": "code",
   "execution_count": null,
   "metadata": {},
   "outputs": [],
   "source": [
    "import matplotlib.pyplot as plt\n",
    "gd =[]\n",
    "\n",
    "while iters < max_iterations and previos_step >preciosn:\n",
    "    prev = curr\n",
    "    curr = curr - learning_rate*gf(prev)\n",
    "    previos_step = abs(curr-prev)\n",
    "    iters+=1\n",
    "    gd.append(curr)\n"
   ]
  },
  {
   "cell_type": "code",
   "execution_count": null,
   "metadata": {},
   "outputs": [],
   "source": [
    "print('local minima: ', curr)"
   ]
  },
  {
   "cell_type": "code",
   "execution_count": null,
   "metadata": {},
   "outputs": [],
   "source": [
    "plt.plot(gd)"
   ]
  }
 ],
 "metadata": {
  "kernelspec": {
   "display_name": "Python 3",
   "language": "python",
   "name": "python3"
  },
  "language_info": {
   "codemirror_mode": {
    "name": "ipython",
    "version": 3
   },
   "file_extension": ".py",
   "mimetype": "text/x-python",
   "name": "python",
   "nbconvert_exporter": "python",
   "pygments_lexer": "ipython3",
   "version": "3.11.0"
  }
 },
 "nbformat": 4,
 "nbformat_minor": 2
}
