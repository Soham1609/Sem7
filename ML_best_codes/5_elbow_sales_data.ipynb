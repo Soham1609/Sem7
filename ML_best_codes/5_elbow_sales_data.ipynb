{
 "cells": [
  {
   "cell_type": "code",
   "execution_count": null,
   "metadata": {},
   "outputs": [],
   "source": [
    "import pandas as pd\n",
    "import numpy as np\n",
    "from sklearn.preprocessing import StandardScaler\n",
    "import matplotlib.pyplot as plt\n",
    "\n",
    "# Load the dataset\n",
    "df = pd.read_csv(\"sales_data_sample.csv\", encoding='latin1')"
   ]
  },
  {
   "cell_type": "code",
   "execution_count": null,
   "metadata": {},
   "outputs": [],
   "source": [
    "# Consider only relevant columns for clustering (adjust as needed)\n",
    "data = df[['ORDERNUMBER', 'QUANTITYORDERED', 'PRICEEACH', 'SALES']]\n",
    "\n",
    "# Standardize the data\n",
    "scaler = StandardScaler()\n",
    "data_scaled = scaler.fit_transform(data)\n",
    "\n",
    "# Using the Elbow method to find the optimal number of clusters\n",
    "from sklearn.cluster import KMeans\n",
    "wcss = []\n",
    "for i in range(1, 22):\n",
    "    # kmeans = KMeans(n_clusters=i, init='k-means++', max_iter=300, n_init=10, random_state=0)\n",
    "    kmeans = KMeans(n_clusters = i,  n_init=10,random_state = 0)\n",
    "    kmeans.fit(data_scaled)\n",
    "    wcss.append(kmeans.inertia_)\n",
    "# df.dtypes\n",
    "\n",
    "# Plot the Elbow method graph\n",
    "plt.plot(range(1, 22), wcss, marker='o')\n",
    "plt.title('Elbow Method for Optimal k')\n",
    "plt.xlabel('Number of clusters')\n",
    "plt.ylabel('WCSS')  # Within-Cluster-Sum-of-Squares\n",
    "\n",
    "# Adding text annotation for the optimal number of clusters\n",
    "# optimal_clusters = 3  # Replace this with your chosen number of clusters\n",
    "# plt.text(optimal_clusters, wcss[optimal_clusters-1] + 500, f'Optimal Clusters: {optimal_clusters}')\n",
    "\n",
    "plt.show()\n"
   ]
  },
  {
   "cell_type": "code",
   "execution_count": null,
   "metadata": {},
   "outputs": [],
   "source": [
    "# from sklearn.cluster import AgglomerativeClustering\n",
    "# from scipy.cluster.hierarchy import dendrogram, linkage\n",
    "\n",
    "# # Choose the optimal number of clusters based on the Elbow method\n",
    "# optimal_clusters = 3  # Replace this with your chosen number of clusters\n",
    "\n",
    "# # K-Means clustering with the optimal number of clusters\n",
    "# kmeans = KMeans(n_clusters=optimal_clusters, init='k-means++', max_iter=300, n_init=10, random_state=0)\n",
    "# kmeans_labels = kmeans.fit_predict(data_scaled)\n",
    "\n",
    "# # Hierarchical clustering\n",
    "# hc = AgglomerativeClustering(n_clusters=optimal_clusters, affinity='euclidean', linkage='ward')\n",
    "# hc_labels = hc.fit_predict(data_scaled)\n",
    "\n",
    "# # Plot dendrogram for hierarchical clustering\n",
    "# linkage_matrix = linkage(data_scaled, 'ward')\n",
    "# dendrogram(linkage_matrix)\n",
    "# plt.title('Dendrogram')\n",
    "# plt.xlabel('Sample Index')\n",
    "# plt.ylabel('Cluster Distance')\n",
    "# plt.show()\n"
   ]
  }
 ],
 "metadata": {
  "kernelspec": {
   "display_name": "Python 3",
   "language": "python",
   "name": "python3"
  },
  "language_info": {
   "codemirror_mode": {
    "name": "ipython",
    "version": 3
   },
   "file_extension": ".py",
   "mimetype": "text/x-python",
   "name": "python",
   "nbconvert_exporter": "python",
   "pygments_lexer": "ipython3",
   "version": "3.11.0"
  }
 },
 "nbformat": 4,
 "nbformat_minor": 2
}
