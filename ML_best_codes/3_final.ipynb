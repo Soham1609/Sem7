{
 "cells": [
  {
   "cell_type": "code",
   "execution_count": 1,
   "id": "c30a1062",
   "metadata": {},
   "outputs": [],
   "source": [
    "import pandas as pd\n",
    "import seaborn as sns\n",
    "df = pd.read_csv('Churn_Modelling.csv')\n",
    "# df.columns\n",
    "# df.head()"
   ]
  },
  {
   "cell_type": "code",
   "execution_count": 2,
   "id": "b1d55dd5",
   "metadata": {},
   "outputs": [
    {
     "name": "stderr",
     "output_type": "stream",
     "text": [
      "C:\\Users\\Soham\\AppData\\Roaming\\Python\\Python311\\site-packages\\sklearn\\neural_network\\_multilayer_perceptron.py:686: ConvergenceWarning: Stochastic Optimizer: Maximum iterations (100) reached and the optimization hasn't converged yet.\n",
      "  warnings.warn(\n"
     ]
    }
   ],
   "source": [
    "\n",
    "#input data\n",
    "x = df[['CreditScore', 'Age', 'Tenure', 'Balance', 'NumOfProducts', \n",
    "     'HasCrCard', 'IsActiveMember', 'EstimatedSalary']]\n",
    "#output data\n",
    "y = df['Exited']\n",
    "# x\n",
    "# sns.countplot(x=y)\n",
    "# Normalize\n",
    "from sklearn.preprocessing import StandardScaler\n",
    "scaler = StandardScaler()\n",
    "x_scaled = scaler.fit_transform(x)\n",
    "# x_scaled\n",
    "# Cross Validation\n",
    "from sklearn.model_selection import train_test_split\n",
    "x_train, x_test, y_train, y_test = train_test_split(x_scaled, y, test_size = 0.25)\n",
    "\n",
    "# model building\n",
    "from sklearn.neural_network import MLPClassifier\n",
    "ann = MLPClassifier(hidden_layer_sizes=(100, 100, 100),max_iter=100, activation = 'relu',random_state=0)\n",
    "ann.fit(x_train, y_train)\n",
    "y_pred = ann.predict(x_test)\n",
    "# y_pred"
   ]
  },
  {
   "cell_type": "code",
   "execution_count": 9,
   "id": "8f50f61c",
   "metadata": {},
   "outputs": [
    {
     "data": {
      "text/plain": [
       "0.8699146157709694"
      ]
     },
     "execution_count": 9,
     "metadata": {},
     "output_type": "execute_result"
    }
   ],
   "source": [
    "#checking accuracy\n",
    "from sklearn.metrics import ConfusionMatrixDisplay, accuracy_score, classification_report\n",
    "# ConfusionMatrixDisplay.from_predictions(y_test, y_pred)\n",
    "accuracy_score(y_test, y_pred)\n",
    "# print(classification_report(y_test, y_pred))"
   ]
  },
  {
   "cell_type": "code",
   "execution_count": 4,
   "id": "df90d93a",
   "metadata": {},
   "outputs": [
    {
     "data": {
      "text/plain": [
       "Exited\n",
       "0    7963\n",
       "1    2037\n",
       "Name: count, dtype: int64"
      ]
     },
     "execution_count": 4,
     "metadata": {},
     "output_type": "execute_result"
    }
   ],
   "source": [
    "# here we can see that recall value for 1 is 0.46 which means model fails 50 % of the time \n",
    "# it is due to the fact that the data in the dataset is imbalanced ( 80 percent is 0 and 20 percent is 1)\n",
    "y.value_counts()"
   ]
  },
  {
   "cell_type": "code",
   "execution_count": 5,
   "id": "7e5a0950",
   "metadata": {},
   "outputs": [
    {
     "data": {
      "text/plain": [
       "Exited\n",
       "1    7963\n",
       "0    7963\n",
       "Name: count, dtype: int64"
      ]
     },
     "execution_count": 5,
     "metadata": {},
     "output_type": "execute_result"
    }
   ],
   "source": [
    "#here we can see 1 has ~2000 entries so we have 2 options random oversampling or random undersampling\n",
    "# in over sampling we randomly repeat the entries in the one where less entries are present\n",
    "# in under sampling we reduce the number of entries in the one to match the lower one\n",
    "# in order to prevent loss of data we generally tend top prefer over sampling\n",
    "from imblearn.over_sampling import RandomOverSampler\n",
    "ros = RandomOverSampler(random_state =0)\n",
    "x_res, y_res = ros.fit_resample(x, y)\n",
    "y_res.value_counts()"
   ]
  },
  {
   "cell_type": "code",
   "execution_count": 6,
   "id": "74e1d92f",
   "metadata": {},
   "outputs": [
    {
     "name": "stderr",
     "output_type": "stream",
     "text": [
      "C:\\Users\\Soham\\AppData\\Roaming\\Python\\Python311\\site-packages\\sklearn\\neural_network\\_multilayer_perceptron.py:686: ConvergenceWarning: Stochastic Optimizer: Maximum iterations (100) reached and the optimization hasn't converged yet.\n",
      "  warnings.warn(\n"
     ]
    },
    {
     "data": {
      "text/plain": [
       "<sklearn.metrics._plot.confusion_matrix.ConfusionMatrixDisplay at 0x1c26a39d910>"
      ]
     },
     "execution_count": 6,
     "metadata": {},
     "output_type": "execute_result"
    },
    {
     "data": {
      "image/png": "[encoded data removed]",
      "text/plain": [
       "<Figure size 640x480 with 2 Axes>"
      ]
     },
     "metadata": {},
     "output_type": "display_data"
    }
   ],
   "source": [
    "# Normalize\n",
    "scaler = StandardScaler()\n",
    "x_scaled = scaler.fit_transform(x_res)\n",
    "# x_scaled\n",
    "# Cross Validation\n",
    "x_train, x_test, y_train, y_test = train_test_split(x_scaled, y_res, test_size = 0.25)\n",
    "ann = MLPClassifier(hidden_layer_sizes=(100, 100, 100),max_iter=100, activation = 'relu')\n",
    "ann.fit(x_train, y_train)\n",
    "y_pred = ann.predict(x_test)\n",
    "y_pred\n",
    "#checking accuracy\n",
    "ConfusionMatrixDisplay.from_predictions(y_test, y_pred)"
   ]
  },
  {
   "cell_type": "code",
   "execution_count": 7,
   "id": "1d40cf88",
   "metadata": {},
   "outputs": [
    {
     "data": {
      "text/plain": [
       "0.8699146157709694"
      ]
     },
     "execution_count": 7,
     "metadata": {},
     "output_type": "execute_result"
    }
   ],
   "source": [
    "# print(classification_report(y_test, y_pred))\n",
    "accuracy_score(y_test, y_pred)"
   ]
  }
 ],
 "metadata": {
  "kernelspec": {
   "display_name": "Python 3 (ipykernel)",
   "language": "python",
   "name": "python3"
  },
  "language_info": {
   "codemirror_mode": {
    "name": "ipython",
    "version": 3
   },
   "file_extension": ".py",
   "mimetype": "text/x-python",
   "name": "python",
   "nbconvert_exporter": "python",
   "pygments_lexer": "ipython3",
   "version": "3.11.0"
  }
 },
 "nbformat": 4,
 "nbformat_minor": 5
}
